{
 "cells": [
  {
   "cell_type": "code",
   "execution_count": null,
   "metadata": {},
   "outputs": [],
   "source": [
    "%pip install requests pyjwt openai openpyxl python-dotenv pandas\n",
    "\n",
    "# 安装依赖包"
   ]
  },
  {
   "cell_type": "code",
   "execution_count": null,
   "metadata": {},
   "outputs": [],
   "source": [
    "import jwt\n",
    "import time\n",
    "import requests\n",
    "import openai\n",
    "import pandas as pd\n",
    "import openpyxl\n",
    "import os\n",
    "from dotenv import load_dotenv\n",
    "import json\n",
    "from json.decoder import JSONDecodeError"
   ]
  },
  {
   "cell_type": "code",
   "execution_count": null,
   "metadata": {},
   "outputs": [],
   "source": [
    "# 获取.env 文件中的 配置\n",
    "load_dotenv()\n",
    "\n",
    "KEY_ID = os.getenv('KEY_ID')\n",
    "ISSUER_ID = os.getenv('ISSUER_ID')\n",
    "KEY_FILE = os.getenv('KEY_FILE')\n",
    "BUNDLE_ID = os.getenv('BUNDLE_ID')\n",
    "openai.api_key=os.getenv(\"OPENAI_API_KEY\")"
   ]
  },
  {
   "cell_type": "code",
   "execution_count": null,
   "metadata": {},
   "outputs": [],
   "source": [
    "# 获取 appconnect 的授权token\n",
    "def generate_token():\n",
    "    # 载入 private key\n",
    "    with open(KEY_FILE, \"r\") as f:\n",
    "        private_key = f.read()\n",
    "\n",
    "    headers = {\n",
    "        \"alg\": \"ES256\",\n",
    "        \"kid\": KEY_ID,\n",
    "        \"typ\": \"JWT\"\n",
    "    }\n",
    "    payload = {\n",
    "        \"iss\": ISSUER_ID,\n",
    "        \"exp\": time.time() + 1200,  # token 20 分钟过期\n",
    "        \"aud\": \"appstoreconnect-v1\"\n",
    "    }\n",
    "\n",
    "    # 生成 token\n",
    "    token = jwt.encode(payload, private_key, algorithm=\"ES256\", headers=headers)\n",
    "    return token"
   ]
  },
  {
   "cell_type": "code",
   "execution_count": null,
   "metadata": {},
   "outputs": [],
   "source": [
    "token = generate_token()\n",
    "print(token)"
   ]
  },
  {
   "cell_type": "code",
   "execution_count": null,
   "metadata": {},
   "outputs": [],
   "source": [
    "# 设置通用的 headers\n",
    "headers = {\n",
    "        \"Authorization\": f\"Bearer {token}\"\n",
    "    }"
   ]
  },
  {
   "cell_type": "code",
   "execution_count": null,
   "metadata": {},
   "outputs": [],
   "source": [
    "# 获取 app_id\n",
    "def get_app_id():\n",
    "\n",
    "    headers = {\n",
    "        \"Authorization\": f\"Bearer {token}\"\n",
    "}\n",
    "\n",
    "    params = {\n",
    "        \"filter[bundleId]\": BUNDLE_ID\n",
    "    }\n",
    "    response = requests.get(\"https://api.appstoreconnect.apple.com/v1/apps\", headers=headers, params=params)\n",
    "    response_json = response.json()\n",
    "    \n",
    "    app_id  = response_json['data'][0]['id'] if response_json['data'] else None\n",
    "    return app_id\n",
    "\n",
    "APP_ID = get_app_id()\n",
    "print(APP_ID)"
   ]
  },
  {
   "cell_type": "code",
   "execution_count": null,
   "metadata": {},
   "outputs": [],
   "source": [
    "# 获取 appinfos 信息，并通过里面的 appStoreState 来获取未提交的 App 版本的 id\n",
    "def get_app_info(app_id):\n",
    "    url = f\"https://api.appstoreconnect.apple.com/v1/apps/{app_id}/appInfos\"\n",
    "    response = requests.get(url=url, headers=headers)\n",
    "    app_info_data = response.json()\n",
    "    return app_info_data\n",
    "\n",
    "data = get_app_info(APP_ID)\n",
    "app_info_id_not_sale = [item['id'] for item in data['data'] if item['attributes']['appStoreState'] != 'READY_FOR_SALE'].pop()\n",
    "print(app_info_id_not_sale)\n"
   ]
  },
  {
   "cell_type": "code",
   "execution_count": null,
   "metadata": {},
   "outputs": [],
   "source": [
    "# 通过上面获取的 app_info_id 来获取该版本下的所有国际化的内容\n",
    "def get_localizations(app_info_id):\n",
    "    url = f\"https://api.appstoreconnect.apple.com/v1/appInfos/{app_info_id}/appInfoLocalizations\"\n",
    "    response = requests.get(url=url, headers=headers)\n",
    "    localizations_data = response.json()\n",
    "    return localizations_data\n",
    "\n",
    "localizations = get_localizations( app_info_id_not_sale)\n",
    "print(localizations)"
   ]
  },
  {
   "cell_type": "code",
   "execution_count": null,
   "metadata": {},
   "outputs": [],
   "source": [
    "# 将 localizations 组装成 dataframe 方便处理\n",
    "records = [\n",
    "    {\n",
    "        'id': item['id'],\n",
    "        'locale': item['attributes']['locale'],\n",
    "        'name': item['attributes']['name'],\n",
    "        'subtitle': item['attributes']['subtitle'],\n",
    "        'link': item['links']['self'],\n",
    "    }\n",
    "    for item in localizations['data']\n",
    "]\n",
    "\n",
    "localesData = pd.DataFrame(records)"
   ]
  },
  {
   "cell_type": "code",
   "execution_count": null,
   "metadata": {},
   "outputs": [],
   "source": [
    "localesData.head()"
   ]
  },
  {
   "cell_type": "code",
   "execution_count": null,
   "metadata": {},
   "outputs": [],
   "source": [
    "localesData.columns"
   ]
  },
  {
   "cell_type": "code",
   "execution_count": null,
   "metadata": {},
   "outputs": [],
   "source": [
    "# 保存 localesData 到本地 Excel 中\n",
    "localesData.to_excel(\"store.xlsx\")"
   ]
  },
  {
   "cell_type": "code",
   "execution_count": null,
   "metadata": {},
   "outputs": [],
   "source": [
    "# 使用 loc 方法找到 'locale' 列中值为 'id' 的行，并将这些行的 'locale' 值设置为 'id-id',方便 gpt  来处理\n",
    "localesData.loc[localesData['locale'] == 'id', 'locale'] = 'id-id'"
   ]
  },
  {
   "cell_type": "code",
   "execution_count": null,
   "metadata": {},
   "outputs": [],
   "source": [
    "# 这里是过滤掉以 zh 开头的行，不处理中文内容，可选\n",
    "data = localesData[~localesData['locale'].str.startswith('zh')]"
   ]
  },
  {
   "cell_type": "code",
   "execution_count": null,
   "metadata": {},
   "outputs": [],
   "source": [
    "# 获取 gpt 的 model response\n",
    "def get_completion(prompt, model=\"gpt-3.5-turbo\"):\n",
    "    messages = [{\"role\": \"user\", \"content\": prompt}]\n",
    "    response = openai.ChatCompletion.create(\n",
    "        model=model,\n",
    "        messages=messages,\n",
    "        temperature=0, \n",
    "    )\n",
    "    return response.choices[0].message[\"content\"]"
   ]
  },
  {
   "cell_type": "code",
   "execution_count": null,
   "metadata": {},
   "outputs": [],
   "source": [
    "# GPT 的prompt 定义\n",
    "\n",
    "def transcribe_by_identifier(text,identifier):\n",
    "    prompt = f\"\"\"\n",
    "    将``` ``` 中的内容翻译成语言地区标识符为\"{identifier}\"的语言\n",
    "    ```{text}```\n",
    "    输出结果结构如下,translations 中如遇到换行则必须用 \\\\n 代替。一定不要出现符号':'，如果出现':'则用 ','代替 \n",
    "    {{\n",
    "    \"language\":\"english\",\n",
    "    \"identifier\":\"en-us\",\n",
    "    \"translations\": \"stay \\\\n hungry\"\n",
    "    }}\n",
    "    \"\"\"\n",
    "    response = get_completion(prompt)\n",
    "    #print(response)\n",
    "    # time.sleep(3) 如果 gpt 反馈调用太频繁，这里可以这么设置\n",
    "    return response"
   ]
  },
  {
   "cell_type": "code",
   "execution_count": null,
   "metadata": {},
   "outputs": [],
   "source": [
    "# 处理 App name 每一行，增加翻译内容\n",
    "text = f'''\n",
    "    这里是你要翻译处理的 App name\n",
    "    '''\n",
    "\n",
    "def trans_row_name(row):\n",
    "    identifier = row['locale']\n",
    "    print(identifier)\n",
    "    transcribe_response = transcribe_by_identifier(text=text,identifier=identifier)\n",
    "    transcribed = json.loads(transcribe_response)\n",
    "    row['language']=transcribed[\"language\"]\n",
    "    row['new_identifier']=transcribed[\"identifier\"]\n",
    "    row['new_name']= transcribed[\"translations\"]\n",
    "\n",
    "    return row"
   ]
  },
  {
   "cell_type": "code",
   "execution_count": null,
   "metadata": {},
   "outputs": [],
   "source": [
    "# 对每一行使用上面的翻译函数，增加翻译结果到 new_name 列\n",
    "new_data = data.apply(trans_row_name,axis=1)\n",
    "new_data"
   ]
  },
  {
   "cell_type": "code",
   "execution_count": null,
   "metadata": {},
   "outputs": [],
   "source": [
    "text = f\"\"\"\n",
    "    输入 App 的副标题\n",
    "    \"\"\"\n",
    "\n",
    "# 定义一个处理每一行的函数\n",
    "def trans_row_subtitle(row):\n",
    "    identifier = row['locale']\n",
    "    print(identifier)\n",
    "    transcribe_response = transcribe_by_identifier(text=text,identifier=identifier)\n",
    "    transcribed = json.loads(transcribe_response)\n",
    "    row['new_subtitle']= transcribed[\"translations\"]\n",
    "\n",
    "    return row"
   ]
  },
  {
   "cell_type": "code",
   "execution_count": null,
   "metadata": {},
   "outputs": [],
   "source": [
    "# 给数据加上 副标题 的翻译结果\n",
    "new_data = new_data.apply(trans_row_subtitle,axis=1)"
   ]
  },
  {
   "cell_type": "code",
   "execution_count": null,
   "metadata": {},
   "outputs": [],
   "source": [
    "new_data.head()"
   ]
  },
  {
   "cell_type": "code",
   "execution_count": null,
   "metadata": {},
   "outputs": [],
   "source": [
    "# 保存到 Excel ，可以方便检查翻译结果\n",
    "new_data.to_excel(\"new_name.xlsx\")"
   ]
  },
  {
   "cell_type": "code",
   "execution_count": null,
   "metadata": {},
   "outputs": [],
   "source": [
    "# 载入待更新的 data 表格，其中 new_name 为翻译的App name ，new_subtitle 为副标题\n",
    "send_data = pd.read_excel(\"new_name.xlsx\",index_col=0)\n",
    "send_data"
   ]
  },
  {
   "cell_type": "code",
   "execution_count": null,
   "metadata": {},
   "outputs": [],
   "source": [
    "# 执行更新 App name\n",
    "def update_name(new_name,id) :\n",
    "    url = f\"https://api.appstoreconnect.apple.com/v1/appInfoLocalizations/{id}\"\n",
    "    \n",
    "    payload = {\n",
    "        'data': {\n",
    "            'type': 'appInfoLocalizations',\n",
    "            'id': id,\n",
    "            'attributes': {\n",
    "                'name': new_name  # 想要替换的名字\n",
    "            }\n",
    "        }\n",
    "    }\n",
    "\n",
    "    response = requests.patch(url=url, headers=headers, json=payload)\n",
    "\n",
    "    if response.ok:\n",
    "        return True\n",
    "    else:\n",
    "        return False"
   ]
  },
  {
   "cell_type": "code",
   "execution_count": null,
   "metadata": {},
   "outputs": [],
   "source": [
    "# 执行更新 subtitle的函数\n",
    "def update_subtitle(new_subtitle,id) :\n",
    "    url = f\"https://api.appstoreconnect.apple.com/v1/appInfoLocalizations/{id}\"\n",
    "    \n",
    "    payload = {\n",
    "        'data': {\n",
    "            'type': 'appInfoLocalizations',\n",
    "            'id': id,\n",
    "            'attributes': {\n",
    "                'subtitle': new_subtitle  # 想要替换的名字\n",
    "            }\n",
    "        }\n",
    "    }\n",
    "\n",
    "    response = requests.patch(url=url, headers=headers, json=payload)\n",
    "\n",
    "    if response.ok:\n",
    "        return True\n",
    "    else:\n",
    "        return False"
   ]
  },
  {
   "cell_type": "code",
   "execution_count": null,
   "metadata": {},
   "outputs": [],
   "source": [
    "# 执行更新 name 的函数\n",
    "def send_row_name(row):\n",
    "    result = update_name(new_name=row['new_name'],id=row['id'])\n",
    "    row['result']=result\n",
    "    print(f\"更新了{row['language']}:{row['new_name']} - { '成功' if result else '失败' }\")\n",
    "    return row"
   ]
  },
  {
   "cell_type": "code",
   "execution_count": null,
   "metadata": {},
   "outputs": [],
   "source": [
    "# 执行更新副标题的函数\n",
    "def send_row_subtitle(row):\n",
    "    result = update_subtitle(new_subtitle=row['new_subtitle'],id=row['id'])\n",
    "    row['result_subtitle']=result\n",
    "    print(f\"更新了{row['language']}:{row['result_subtitle']} - { '成功' if result else '失败' }\")\n",
    "    return row"
   ]
  },
  {
   "cell_type": "code",
   "execution_count": null,
   "metadata": {},
   "outputs": [],
   "source": [
    "# 对加了翻译结果的dataframe 执行 更新 name\n",
    "sended_data = send_data.apply(send_row_name,axis=1)"
   ]
  },
  {
   "cell_type": "code",
   "execution_count": null,
   "metadata": {},
   "outputs": [],
   "source": [
    "# 对加了翻译结果的 dataframe 执行更新 副标题\n",
    "sended_subtitle = send_data.apply(send_row_subtitle,axis=1)"
   ]
  },
  {
   "cell_type": "markdown",
   "metadata": {},
   "source": [
    "# 从下面开始是对 更新说明 whatsnew 、应用描述的操作"
   ]
  },
  {
   "cell_type": "code",
   "execution_count": null,
   "metadata": {},
   "outputs": [],
   "source": [
    "# 获取 app_store_version_localization_id\n",
    "def get_app_store_version_localization_id(app_id, headers):\n",
    "    # 获取 the App Store Version\n",
    "    url_versions = f\"https://api.appstoreconnect.apple.com/v1/apps/{app_id}/appStoreVersions\"\n",
    "    response_versions = requests.get(url=url_versions, headers=headers)\n",
    "    apple_versions_data = response_versions.json()\n",
    "    \n",
    "    # 这里需要查看下结果，默认第一个是最新的版本\n",
    "    apple_version_id = apple_versions_data['data'][0]['id']\n",
    "\n",
    "    # 获取 the App Store Version Localization\n",
    "    url_localizations = f\"https://api.appstoreconnect.apple.com/v1/appStoreVersions/{apple_version_id}/appStoreVersionLocalizations\"\n",
    "    response_localizations = requests.get(url=url_localizations, headers=headers)\n",
    "    localizations_data = response_localizations.json()\n",
    "\n",
    "    # 获取每个 locale 下的 id\n",
    "    rows=[]\n",
    "\n",
    "    # 遍历 data 字段中的每个条目\n",
    "    for item in localizations_data['data']:\n",
    "        # 提取所需的字段\n",
    "        row = {\n",
    "            'id': item['id'],\n",
    "            'locale': item['attributes']['locale'],\n",
    "            'keywords': item['attributes']['keywords']\n",
    "        }\n",
    "        # 将提取的数据添加到列表中\n",
    "        rows.append(row)\n",
    "\n",
    "    # 创建一个 DataFrame\n",
    "    localizations_whatsnew_dataframe = pd.DataFrame(rows)\n",
    "  \n",
    "    return localizations_whatsnew_dataframe\n",
    "\n",
    "\n",
    "localizations_whatsnew_dataframe = get_app_store_version_localization_id(app_id=APP_ID,headers=headers)"
   ]
  },
  {
   "cell_type": "code",
   "execution_count": null,
   "metadata": {},
   "outputs": [],
   "source": [
    "# 可选：过滤掉以 zh 开头的行，不处理中文内容\n",
    "localizations_whatsnew_dataframe_nocn = localizations_whatsnew_dataframe[~localizations_whatsnew_dataframe['locale'].str.startswith('zh')]\n",
    "\n",
    "# 必须：替换 locale 为 id 的行的 locale 为 id-id\n",
    "localizations_whatsnew_dataframe_nocn.loc[localizations_whatsnew_dataframe_nocn['locale'] == 'id', 'locale'] = 'id-id'\n"
   ]
  },
  {
   "cell_type": "code",
   "execution_count": null,
   "metadata": {},
   "outputs": [],
   "source": [
    "localizations_whatsnew_dataframe_nocn.head()"
   ]
  },
  {
   "cell_type": "code",
   "execution_count": null,
   "metadata": {},
   "outputs": [],
   "source": [
    "# 可以保存数据\n",
    "localizations_whatsnew_dataframe_nocn.to_excel(\"new_whatsnew_nocn.xlsx\")"
   ]
  },
  {
   "cell_type": "code",
   "execution_count": null,
   "metadata": {},
   "outputs": [],
   "source": [
    "text = f\"\"\"\n",
    "    这里定义你的版本说明 whatsnew\n",
    "\n",
    "    感谢首批用户的支持，经过加紧开发，本次给大家带来巨大更新。\n",
    "    - 新 iPhonePro 用户有福了，新增支持快捷指令，配合 action button，可实现一键录音+同步转写\n",
    "    - 新增支持灵动岛和实时活动，在灵动岛和实时活动中可实时显示转写出的文字，效果相当丝滑\n",
    "    - 新增桌面小组件，可同步显示最新一条的语言笔记\n",
    "    - 优化，语音笔记的标题同步转写结果\n",
    "    - 优化，新增的语音笔记置顶\n",
    "    - 优化，重新设计的主页，更精简清晰\n",
    "    - 优化，修复了语言设置的 bug\n",
    "    - 优化，修复了偶尔录音之后无法播放的问题\n",
    "    - 优化，增加了是否显示播放控件的设置\n",
    "    - 优化，增强了性能\n",
    "    各位用户如果有其他需求未满足，可随时联系我，我这边肯定会每一份邮件都回复。\n",
    "    \"\"\"\n",
    "\n",
    "# 翻译每一行的 whatsnew\n",
    "def trans_row_whatsnew(row):\n",
    "    identifier = row['locale']\n",
    "    print(identifier)\n",
    "    transcribe_response = transcribe_by_identifier(text=text,identifier=identifier)\n",
    "    print(transcribe_response)\n",
    "    try:\n",
    "        # 尝试json 解码\n",
    "        transcribed = json.loads(transcribe_response)\n",
    "    except JSONDecodeError:\n",
    "        print('Json 解码失败')\n",
    "        row['whatsnew']= 'error'\n",
    "        return row\n",
    "        \n",
    "    row['language']=transcribed[\"language\"]\n",
    "    row['new_identifier']=transcribed[\"identifier\"]\n",
    "    row['whatsnew']= transcribed[\"translations\"]\n",
    "\n",
    "    return row"
   ]
  },
  {
   "cell_type": "code",
   "execution_count": null,
   "metadata": {},
   "outputs": [],
   "source": [
    "text = f\"\"\"\n",
    "\n",
    "    这里定义你的应用介绍\n",
    "    \n",
    "    \"\"\"\n",
    "\n",
    "# 定义一个翻译每一行的函数\n",
    "def trans_row_description(row):\n",
    "    identifier = row['locale']\n",
    "    print(identifier)\n",
    "    transcribe_response = transcribe_by_identifier(text=text,identifier=identifier)\n",
    "    print(transcribe_response)\n",
    "    try:\n",
    "        # 尝试json 解码\n",
    "        transcribed = json.loads(transcribe_response)\n",
    "    except JSONDecodeError:\n",
    "        print('Json 解码失败')\n",
    "        row['description']= 'error'\n",
    "        return row\n",
    "        \n",
    "    #row['language']=transcribed[\"language\"]\n",
    "    #row['new_identifier']=transcribed[\"identifier\"]\n",
    "    row['description']= transcribed[\"translations\"]\n",
    "\n",
    "    return row"
   ]
  },
  {
   "cell_type": "code",
   "execution_count": null,
   "metadata": {},
   "outputs": [],
   "source": [
    "localizations_whatsnew_dataframe_nocn_nono = pd.read_excel(\"new_whatsnew_nocn.xlsx\",index_col=0)"
   ]
  },
  {
   "cell_type": "code",
   "execution_count": null,
   "metadata": {},
   "outputs": [],
   "source": [
    "# 对每一行执行翻译 whatsnew\n",
    "dataAddedWhatsnew = localizations_whatsnew_dataframe_nocn_nono.apply(trans_row_whatsnew,axis=1)"
   ]
  },
  {
   "cell_type": "code",
   "execution_count": null,
   "metadata": {},
   "outputs": [],
   "source": [
    "# 对每一行执行翻译 应用描述\n",
    "dataAddedDescription = localizations_whatsnew_dataframe_nocn.apply(trans_row_description,axis=1)"
   ]
  },
  {
   "cell_type": "code",
   "execution_count": null,
   "metadata": {},
   "outputs": [],
   "source": [
    "dataAddedWhatsnew.to_excel('added_whatsnew.xlsx')"
   ]
  },
  {
   "cell_type": "markdown",
   "metadata": {},
   "source": [
    "这个先保存再载入是为了人工核对翻译结果"
   ]
  },
  {
   "cell_type": "code",
   "execution_count": null,
   "metadata": {},
   "outputs": [],
   "source": [
    "wait_send_whatsnew_data = pd.read_excel('added_whatsnew.xlsx',index_col=0)"
   ]
  },
  {
   "cell_type": "code",
   "execution_count": null,
   "metadata": {},
   "outputs": [],
   "source": [
    "wait_send_whatsnew_data.head()"
   ]
  },
  {
   "cell_type": "code",
   "execution_count": null,
   "metadata": {},
   "outputs": [],
   "source": [
    "# 执行更新 版本更新说明\n",
    "def update_whatsnew(whatsnew,id) :\n",
    "    url = f\"https://api.appstoreconnect.apple.com/v1/appStoreVersionLocalizations/{id}\"\n",
    "    \n",
    "    payload = {\n",
    "        'data': {\n",
    "            'type': 'appStoreVersionLocalizations',\n",
    "            'id': id,\n",
    "            'attributes': {\n",
    "                'whatsNew': whatsnew  # 更新的说明\n",
    "            }\n",
    "        }\n",
    "    }\n",
    "\n",
    "    response = requests.patch(url=url, headers=headers, json=payload)\n",
    "\n",
    "    if response.ok:\n",
    "        return True\n",
    "    else:\n",
    "        print(response.content)\n",
    "        return False\n",
    "    "
   ]
  },
  {
   "cell_type": "code",
   "execution_count": null,
   "metadata": {},
   "outputs": [],
   "source": [
    "description_data_update = pd.read_excel('addedDescription.xlsx',index_col=0)"
   ]
  },
  {
   "cell_type": "code",
   "execution_count": null,
   "metadata": {},
   "outputs": [],
   "source": [
    "# 执行更新 应用描述 的函数\n",
    "def update_description(description,id) :\n",
    "    url = f\"https://api.appstoreconnect.apple.com/v1/appStoreVersionLocalizations/{id}\"\n",
    "    \n",
    "    payload = {\n",
    "        'data': {\n",
    "            'type': 'appStoreVersionLocalizations',\n",
    "            'id': id,\n",
    "            'attributes': {\n",
    "                'description': description  # 更新的说明\n",
    "            }\n",
    "        }\n",
    "    }\n",
    "\n",
    "    response = requests.patch(url=url, headers=headers, json=payload)\n",
    "\n",
    "    if response.ok:\n",
    "        return True\n",
    "    else:\n",
    "        print(response.content)\n",
    "        return False"
   ]
  },
  {
   "cell_type": "code",
   "execution_count": null,
   "metadata": {},
   "outputs": [],
   "source": [
    "# 对 dataframe 批量执行  应用描述 更新的函数\n",
    "def send_row_description(row):\n",
    "    result = update_description(description=row['description'],id=row['id'])\n",
    "    row['result_description']=result\n",
    "    print(f\"更新了{row['locale']}:{row['result_description']} - { '成功' if result else '失败' }\")\n",
    "    return row"
   ]
  },
  {
   "cell_type": "code",
   "execution_count": null,
   "metadata": {},
   "outputs": [],
   "source": [
    "description_data_update.head()"
   ]
  },
  {
   "cell_type": "code",
   "execution_count": null,
   "metadata": {},
   "outputs": [],
   "source": [
    "# 实际执行 应用描述 更新\n",
    "description_data_update_sended = description_data_update.apply(send_row_description,axis=1)"
   ]
  },
  {
   "cell_type": "code",
   "execution_count": null,
   "metadata": {},
   "outputs": [],
   "source": [
    "description_data_update_sended.to_excel('description_data_update_sended.xlsx')"
   ]
  },
  {
   "cell_type": "code",
   "execution_count": null,
   "metadata": {},
   "outputs": [],
   "source": [
    "# 批量执行 whatsnew 更新的函数\n",
    "def send_row_whatsnew(row):\n",
    "    result = update_whatsnew(whatsnew=row['whatsnew'],id=row['id'])\n",
    "    row['result']=result\n",
    "    print(f\"更新了{row['language']}:  { '成功' if result else '失败' }\")\n",
    "    return row"
   ]
  },
  {
   "cell_type": "code",
   "execution_count": null,
   "metadata": {},
   "outputs": [],
   "source": [
    "# 实际执行 whatsnew 更新\n",
    "sended_data_whatsnew = wait_send_whatsnew_data.apply(send_row_whatsnew,axis=1)"
   ]
  },
  {
   "cell_type": "code",
   "execution_count": null,
   "metadata": {},
   "outputs": [],
   "source": [
    "# 筛选查看执行不成功的项目\n",
    "sended_subtitle[sended_subtitle['result_subtitle'] == False]"
   ]
  }
 ],
 "metadata": {
  "kernelspec": {
   "display_name": "openai",
   "language": "python",
   "name": "python3"
  },
  "language_info": {
   "codemirror_mode": {
    "name": "ipython",
    "version": 3
   },
   "file_extension": ".py",
   "mimetype": "text/x-python",
   "name": "python",
   "nbconvert_exporter": "python",
   "pygments_lexer": "ipython3",
   "version": "3.9.18"
  },
  "orig_nbformat": 4
 },
 "nbformat": 4,
 "nbformat_minor": 2
}
